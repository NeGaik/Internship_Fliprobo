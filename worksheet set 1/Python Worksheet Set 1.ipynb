{
 "cells": [
  {
   "cell_type": "markdown",
   "id": "88fd4e98",
   "metadata": {},
   "source": [
    "# 11.Find the factorial of a number."
   ]
  },
  {
   "cell_type": "code",
   "execution_count": 2,
   "id": "78d1be21",
   "metadata": {},
   "outputs": [
    {
     "name": "stdout",
     "output_type": "stream",
     "text": [
      "Enter Number:7\n",
      "Factorial= 5040\n"
     ]
    }
   ],
   "source": [
    "i=int(input(\"Enter Number:\"))\n",
    "fact=1\n",
    "while (i>0):\n",
    "    fact=fact*i\n",
    "    i=i-1\n",
    "print(\"Factorial=\",fact)"
   ]
  },
  {
   "cell_type": "markdown",
   "id": "2e7ba80f",
   "metadata": {},
   "source": [
    "# 12. Find whether a number is prime or composite."
   ]
  },
  {
   "cell_type": "code",
   "execution_count": 4,
   "id": "894b48bb",
   "metadata": {},
   "outputs": [
    {
     "name": "stdout",
     "output_type": "stream",
     "text": [
      "Enter Number:13\n",
      "13 is prime number\n"
     ]
    }
   ],
   "source": [
    "n=int(input(\"Enter Number:\"))\n",
    "for i in range(2,n):\n",
    "    if n%i == 0:\n",
    "        print(n,\"is composite number\")\n",
    "        break\n",
    "else:\n",
    "    print(n,\"is prime number\")"
   ]
  },
  {
   "cell_type": "markdown",
   "id": "22ed14f5",
   "metadata": {},
   "source": [
    "# 13.Check whether a given string is palindrome or not.."
   ]
  },
  {
   "cell_type": "code",
   "execution_count": 6,
   "id": "e9c83ea9",
   "metadata": {},
   "outputs": [
    {
     "name": "stdout",
     "output_type": "stream",
     "text": [
      "Enter String Value:madam\n",
      "madam is Palindrome\n"
     ]
    }
   ],
   "source": [
    "a=input(\"Enter String Value:\")\n",
    "b=a[-1::-1]\n",
    "if (a==b):\n",
    "    print(a,\"is Palindrome\")\n",
    "else:\n",
    "    print(a,\"is not Palindrome\")"
   ]
  },
  {
   "cell_type": "markdown",
   "id": "bd864357",
   "metadata": {},
   "source": [
    "# 14.Get the third side of right-angled triangle from two given sides."
   ]
  },
  {
   "cell_type": "code",
   "execution_count": 11,
   "id": "a64e07d6",
   "metadata": {},
   "outputs": [
    {
     "name": "stdout",
     "output_type": "stream",
     "text": [
      "Enter Base of Triangle:4\n",
      "Enter Height of Triangle:10\n",
      "Length of the Hypotenuse is 20.0\n"
     ]
    }
   ],
   "source": [
    "base=float(input(\"Enter Base of Triangle:\"))\n",
    "height=float(input(\"Enter Height of Triangle:\"))\n",
    "print(\"Length of the Hypotenuse is\",(base*height/2))"
   ]
  },
  {
   "cell_type": "markdown",
   "id": "20345c0e",
   "metadata": {},
   "source": [
    "# 15.Print the frequency of each of the characters present in a given string."
   ]
  },
  {
   "cell_type": "code",
   "execution_count": 13,
   "id": "a40e516b",
   "metadata": {},
   "outputs": [
    {
     "name": "stdout",
     "output_type": "stream",
     "text": [
      "Enter a Stringamazing\n",
      "amazing\n",
      "{'a': 2, 'm': 1, 'z': 1, 'i': 1, 'n': 1, 'g': 1}\n"
     ]
    }
   ],
   "source": [
    "str=input(\"Enter a String\")\n",
    "print(str)\n",
    "count={}\n",
    "for x in str:\n",
    "    if x in count.keys():\n",
    "        count[x]+=1\n",
    "    else:\n",
    "        count[x]=1\n",
    "print(count)"
   ]
  },
  {
   "cell_type": "code",
   "execution_count": null,
   "id": "4a457c9c",
   "metadata": {},
   "outputs": [],
   "source": []
  }
 ],
 "metadata": {
  "kernelspec": {
   "display_name": "Python 3 (ipykernel)",
   "language": "python",
   "name": "python3"
  },
  "language_info": {
   "codemirror_mode": {
    "name": "ipython",
    "version": 3
   },
   "file_extension": ".py",
   "mimetype": "text/x-python",
   "name": "python",
   "nbconvert_exporter": "python",
   "pygments_lexer": "ipython3",
   "version": "3.9.12"
  }
 },
 "nbformat": 4,
 "nbformat_minor": 5
}
